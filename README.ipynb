{
  "nbformat": 4,
  "nbformat_minor": 0,
  "metadata": {
    "colab": {
      "provenance": [],
      "authorship_tag": "ABX9TyOwZ4KUkJcnTE6ITeeT0gov",
      "include_colab_link": true
    },
    "kernelspec": {
      "name": "python3",
      "display_name": "Python 3"
    },
    "language_info": {
      "name": "python"
    }
  },
  "cells": [
    {
      "cell_type": "markdown",
      "metadata": {
        "id": "view-in-github",
        "colab_type": "text"
      },
      "source": [
        "<a href=\"https://colab.research.google.com/github/estrela1921/projeto-individual-modulo-4/blob/main/README.ipynb\" target=\"_parent\"><img src=\"https://colab.research.google.com/assets/colab-badge.svg\" alt=\"Open In Colab\"/></a>"
      ]
    },
    {
      "cell_type": "markdown",
      "source": [
        "# Resumo Semanal - Projeto Individual M4\n",
        "\n",
        "Este README fornece um resumo semanal das atividades realizadas no projeto XYZ. Os dados abaixo representam o progresso diário ao longo da semana.\n",
        "\n",
        "## Horas Trabalhadas\n",
        "\n",
        "Durante a semana, as horas trabalhadas foram distribuídas da seguinte maneira:\n",
        "\n",
        "| Dia da Semana | Horas Trabalhadas |\n",
        "|---------------|-------------------|\n",
        "| Segunda       | 6                 |\n",
        "| Terça         | 7                 |\n",
        "| Quarta        | 8                 |\n",
        "| Quinta        | 6                 |\n",
        "| Sexta         | 7                 |\n",
        "| Sábado        | 5                 |\n",
        "| Domingo       | 4                 |\n",
        "\n",
        "### Total de Horas Trabalhadas na Semana: 43\n",
        "### Média Diária de Horas Trabalhadas: 6.14\n",
        "\n",
        "## Bugs Corrigidos\n",
        "\n",
        "A equipe dedicou tempo para corrigir bugs encontrados no projeto. Aqui está o resumo diário:\n",
        "\n",
        "| Dia da Semana | Bugs Corrigidos |\n",
        "|---------------|------------------|\n",
        "| Segunda       | 3                |\n",
        "| Terça         | 2                |\n",
        "| Quarta        | 1                |\n",
        "| Quinta        | 4                |\n",
        "| Sexta         | 3                |\n",
        "| Sábado        | 2                |\n",
        "| Domingo       | 1                |\n",
        "\n",
        "### Total de Bugs Corrigidos na Semana: 16\n",
        "### Média Diária de Bugs Corrigidos: 2.29\n",
        "\n",
        "## Tarefas Concluídas\n",
        "\n",
        "As tarefas concluídas ao longo da semana foram registradas da seguinte forma:\n",
        "\n",
        "| Dia da Semana | Tarefas Concluídas |\n",
        "|---------------|---------------------|\n",
        "| Segunda       | 5                   |\n",
        "| Terça         | 4                   |\n",
        "| Quarta        | 6                   |\n",
        "| Quinta        | 4                   |\n",
        "| Sexta         | 5                   |\n",
        "| Sábado        | 3                   |\n",
        "| Domingo       | 2                   |\n",
        "\n",
        "### Total de Tarefas Concluídas na Semana: 29\n",
        "### Média Diária de Tarefas Concluídas: 4.14\n",
        "\n",
        "## Produtividade Diária\n",
        "\n",
        "A produtividade diária foi calculada como o número de tarefas concluídas por hora de trabalho. Aqui estão os resultados:\n",
        "\n",
        "| Dia da Semana | Produtividade (Tarefas por Hora) |\n",
        "|---------------|-----------------------------------|\n",
        "| Segunda       | 0.83                              |\n",
        "| Terça         | 0.57                              |\n",
        "| Quarta        | 0.75                              |\n",
        "| Quinta        | 0.67                              |\n",
        "| Sexta         | 0.71                              |\n",
        "| Sábado        | 0.6                               |\n",
        "| Domingo       | 0.5                               |\n",
        "\n",
        "Este resumo oferece uma visão detalhada do progresso semanal, permitindo análises sobre a distribuição de horas, correção de bugs, conclusão de tarefas e a produtividade diária."
      ],
      "metadata": {
        "id": "rVyrPcKPy1xp"
      }
    },
    {
      "cell_type": "code",
      "source": [],
      "metadata": {
        "id": "GTRZ7hqdyQNZ"
      },
      "execution_count": null,
      "outputs": []
    },
    {
      "cell_type": "markdown",
      "source": [
        "# <font color = \"red\">PROJETO INDIVIDUAL MODULO 4\n",
        " ##Autor  Este  Relatório de Progresso foi desenvolvido por <font color = \"blue\">ILMA GONÇALVES DA ROCHA OLIVEIRA. -->\n",
        "###  Este  relatório foi desenvolvido usando o Google colab e tem o objetivo de demonstrar a importância da análise dos dados de um projeto de desenvolvimento de software ao longo de uma semana. Os dados fornecidos permitirão ao proprietário da equipe de desenvolvimento obter insights sobre o progresso do projeto, identificar possíveis áreas de melhoria e tomar decisões informadas para garantir o sucesso do projeto.\n",
        "### Foram utilizadas bibliotecas para execução das operações solicitadas, como a biblioteca Pandas,Numpy,Matplotlib e Seaborn.\n",
        "##  O arquivo <font color = \"blue\">Projeto_Individual_M4.ipynb _\n",
        "##contém um relatório de progresso diário, incluindo\n",
        " * Total de Horas Trabalhadas\n",
        " * Média Diária de Horas Trabalhadas\n",
        " * Total de Bugs Corrigidos\n",
        " * Média Diária de Bugs Corrigidos\n",
        " * Total de Tarefas Concluídas\n",
        " * Média Diária de Tarefas Concluídas e\n",
        " * Produtividade Diária (Tarefas Concluídas por Hora)\n",
        "\n",
        "##E o arquivo<font color = \"blue\"> Graficos_Individual_M4.ipynb\n",
        "# contém os gráficos gerados para cada parte do relatório\n"
      ],
      "metadata": {
        "id": "mD0LIzTGCtEE"
      }
    }
  ]
}