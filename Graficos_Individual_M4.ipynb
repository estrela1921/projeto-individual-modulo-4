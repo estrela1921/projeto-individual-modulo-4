{
  "nbformat": 4,
  "nbformat_minor": 0,
  "metadata": {
    "colab": {
      "provenance": [],
      "authorship_tag": "ABX9TyPpMme7bl3pqVBRwVkz1kuF",
      "include_colab_link": true
    },
    "kernelspec": {
      "name": "python3",
      "display_name": "Python 3"
    },
    "language_info": {
      "name": "python"
    }
  },
  "cells": [
    {
      "cell_type": "markdown",
      "metadata": {
        "id": "view-in-github",
        "colab_type": "text"
      },
      "source": [
        "<a href=\"https://colab.research.google.com/github/estrela1921/projeto-individual-modulo-4/blob/main/Graficos_Individual_M4.ipynb\" target=\"_parent\"><img src=\"https://colab.research.google.com/assets/colab-badge.svg\" alt=\"Open In Colab\"/></a>"
      ]
    },
    {
      "cell_type": "markdown",
      "source": [],
      "metadata": {
        "id": "yGbTkTweuvVs"
      }
    },
    {
      "cell_type": "code",
      "source": [
        "import pandas as pd\n",
        "import matplotlib.pyplot as plt\n",
        "import numpy as np"
      ],
      "metadata": {
        "id": "kf-4Q5lNu5kg"
      },
      "execution_count": 2,
      "outputs": []
    },
    {
      "cell_type": "code",
      "source": [
        "!pip install seaborn"
      ],
      "metadata": {
        "id": "nRR_gWMlvEpD"
      },
      "execution_count": null,
      "outputs": []
    },
    {
      "cell_type": "code",
      "source": [
        "import seaborn as sns"
      ],
      "metadata": {
        "id": "F47NWSi2vJwq"
      },
      "execution_count": 4,
      "outputs": []
    },
    {
      "cell_type": "markdown",
      "source": [
        "##<font color = \"blue\"> GRÁFICO 1 Horas Trabalhadas por Dia da Semana"
      ],
      "metadata": {
        "id": "WYhtRpnKvPbZ"
      }
    },
    {
      "cell_type": "code",
      "source": [
        "# Dados fornecidos\n",
        "dados = {\n",
        "    'Dia': ['Segunda', 'Terça', 'Quarta', 'Quinta', 'Sexta', 'Sábado', 'Domingo'],\n",
        "    'Horas Trabalhadas': [6, 7, 8, 6, 7, 5, 4]\n",
        "}\n",
        "\n",
        "# Calcular o total de horas trabalhadas\n",
        "total_horas_trabalhadas = sum(dados['Horas Trabalhadas'])\n",
        "\n",
        "# Criar um gráfico de barras com Seaborn\n",
        "plt.figure(figsize=(7, 5))  # Definir o tamanho do gráfico\n",
        "ax = sns.barplot(x='Dia', y='Horas Trabalhadas', data=dados, palette='viridis')\n",
        "\n",
        "plt.title('Horas Trabalhadas por Dia da Semana')\n",
        "plt.xlabel('Dia da Semana')\n",
        "plt.ylabel('Horas Trabalhadas')\n",
        "\n",
        "plt.xticks(rotation=45)  # Rotacionar os rótulos do eixo x para melhor visualização\n",
        "\n",
        "# Adicionar o total de horas como texto no gráfico\n",
        "for index, value in enumerate(dados['Horas Trabalhadas']):\n",
        "    ax.text(index, value + 0.2, str(value), ha='center', va='bottom', fontsize=9)\n",
        "\n",
        "# Mostrar o total de horas no topo do gráfico\n",
        "plt.text(0, max(dados['Horas Trabalhadas']) + 1, f'Total de Horas: {total_horas_trabalhadas}', ha='left')\n",
        "\n",
        "plt.tight_layout()  # Ajustar layout\n",
        "plt.show()"
      ],
      "metadata": {
        "id": "4ZTPBwPTvW5A"
      },
      "execution_count": null,
      "outputs": []
    },
    {
      "cell_type": "markdown",
      "source": [
        "##<font color = \"blue\"> GRÁFICO 2 Média diária de Horas Trabalhadas"
      ],
      "metadata": {
        "id": "Zuyb81-4wJRZ"
      }
    },
    {
      "cell_type": "code",
      "source": [
        "# Dados\n",
        "dados = {\n",
        "    'Dia': ['Segunda', 'Terça', 'Quarta', 'Quinta', 'Sexta', 'Sábado', 'Domingo'],\n",
        "    'Horas Trabalhadas': [6, 7, 8, 6, 7, 5, 4]\n",
        "}\n",
        "\n",
        "# Criar DataFrame\n",
        "df = pd.DataFrame(dados)\n",
        "\n",
        "# Calcular a média diária de Horas Trabalhadas\n",
        "media_diaria = df['Horas Trabalhadas'].mean()\n",
        "\n",
        "# Adicionar a coluna 'Média' ao DataFrame\n",
        "df['Média'] = media_diaria\n",
        "\n",
        "# Plotar o gráfico\n",
        "plt.figure(figsize=(8, 4))\n",
        "plt.plot(df['Dia'], df[['Horas Trabalhadas', 'Média']], marker='o', linestyle='-', markersize=8)\n",
        "plt.title('Horas Trabalhadas por Dia e Média Diária')\n",
        "plt.xlabel('Dia da Semana')\n",
        "plt.ylabel('Horas Trabalhadas')\n",
        "plt.xticks(rotation=45)\n",
        "plt.yticks(range(0, 11))\n",
        "plt.legend(['Horas Trabalhadas', 'Média'])\n",
        "plt.grid(True)\n",
        "plt.show()"
      ],
      "metadata": {
        "id": "ghgMNLTNwU0f"
      },
      "execution_count": null,
      "outputs": []
    },
    {
      "cell_type": "markdown",
      "source": [
        "##<font color = \"blue\">GRÁFICO 3 Total de Bugs Corrigidos"
      ],
      "metadata": {
        "id": "WwxZ6ptb4EvR"
      }
    },
    {
      "cell_type": "code",
      "source": [
        "# Dados fornecidos\n",
        "dados = {\n",
        "    'Dia': ['Segunda', 'Terça', 'Quarta', 'Quinta', 'Sexta', 'Sábado', 'Domingo'],\n",
        "    'Bugs Corrigidos': [3, 2, 1, 4, 3, 2, 1]\n",
        "}\n",
        "\n",
        "# Calcular o total de bugs corrigidos\n",
        "total_bugs_corrigidos = sum(dados['Bugs Corrigidos'])\n",
        "\n",
        "plt.figure(figsize=(6, 4))  # Definir o tamanho do gráfico\n",
        "\n",
        "# Criar o gráfico de pizza com os dados de bugs corrigidos\n",
        "plt.pie(dados['Bugs Corrigidos'], labels=dados['Dia'], autopct='%1.1f%%', colors=plt.cm.tab20.colors, startangle=140)\n",
        "\n",
        "plt.axis('equal')  # Garante que o gráfico de pizza é desenhado como um círculo\n",
        "plt.title('Distribuição do Total de Bugs Corrigidos por Dia da Semana')\n",
        "\n",
        "# Mostrar o total de bugs corrigidos no centro do gráfico\n",
        "plt.text(0, 0, f'Total de Bugs Corrigidos:\\n{total_bugs_corrigidos}', fontsize=12, color='black', ha='center')\n",
        "\n",
        "plt.show()"
      ],
      "metadata": {
        "id": "o9sqcXTS4ZMr"
      },
      "execution_count": null,
      "outputs": []
    },
    {
      "cell_type": "markdown",
      "source": [
        "##<font color = \"blue\">GRÁFICO 4 Média Diária de Bugs Corrigidos"
      ],
      "metadata": {
        "id": "ST6RnAmWrzwZ"
      }
    },
    {
      "cell_type": "code",
      "source": [
        "# Dados fornecidos\n",
        "dados = {\n",
        "    'Dia': ['Segunda', 'Terça', 'Quarta', 'Quinta', 'Sexta', 'Sábado', 'Domingo'],\n",
        "    'Bugs Corrigidos': [3, 2, 1, 4, 3, 2, 1]\n",
        "}\n",
        "\n",
        "# Calcular a média diária de bugs corrigidos\n",
        "media_diaria = np.mean(dados['Bugs Corrigidos'])\n",
        "\n",
        "# Criar um gráfico de linha com Seaborn para a média diária de bugs corrigidos\n",
        "plt.figure(figsize=(6, 4))  # Definir o tamanho do gráfico\n",
        "\n",
        "sns.lineplot(x='Dia', y='Bugs Corrigidos', data=dados, marker='o', color='orange', label='Bugs Corrigidos por Dia')\n",
        "plt.axhline(media_diaria, color='blue', linestyle='--', label=f'Média Diária: {media_diaria:.2f} bugs')  # Linha horizontal para a média diária\n",
        "\n",
        "plt.title('Média Diária de Bugs Corrigidos por Dia da Semana')\n",
        "plt.xlabel('Dia da Semana')\n",
        "plt.ylabel('Bugs Corrigidos')\n",
        "\n",
        "plt.legend()\n",
        "plt.xticks(rotation=45)  # Rotacionar os rótulos do eixo x para melhor visualização\n",
        "plt.tight_layout()  # Ajustar layout\n",
        "plt.show()"
      ],
      "metadata": {
        "id": "8IzAnOpzxz7E"
      },
      "execution_count": null,
      "outputs": []
    },
    {
      "cell_type": "markdown",
      "source": [
        "##<font color = \"blue\">GRAFICO 5 Total de Tarefas Concluídas"
      ],
      "metadata": {
        "id": "5fvuIoBMyXO-"
      }
    },
    {
      "cell_type": "code",
      "source": [
        "# Dados fornecidos\n",
        "dados = {\n",
        "    'Dia': ['Segunda', 'Terça', 'Quarta', 'Quinta', 'Sexta', 'Sábado', 'Domingo'],\n",
        "    'Tarefas Concluídas': [5, 4, 6, 4, 5, 3, 2]\n",
        "}\n",
        "\n",
        "# Criar um gráfico de barras horizontais\n",
        "plt.figure(figsize=(6, 4))\n",
        "\n",
        "# Utilizar barplot com 'hue' definido como 'Dia' e 'legend' desativado\n",
        "sns.barplot(x='Tarefas Concluídas', y='Dia', data=dados, palette='bright', hue='Dia', legend=False)\n",
        "\n",
        "plt.title('Total de Tarefas Concluídas por Dia da Semana')\n",
        "plt.xlabel('Tarefas Concluídas')\n",
        "plt.ylabel('Dia da Semana')\n",
        "\n",
        "plt.tight_layout()  # Ajustar layout\n",
        "plt.show()"
      ],
      "metadata": {
        "id": "ihkbyHy00Fln"
      },
      "execution_count": null,
      "outputs": []
    },
    {
      "cell_type": "markdown",
      "source": [
        "##<font color = \"blue\">GRÁFICO 6 Média Diária de Tarefas Concluídas"
      ],
      "metadata": {
        "id": "mEfarenbwTrb"
      }
    },
    {
      "cell_type": "code",
      "source": [
        "# Dados fornecidos\n",
        "dados = {\n",
        "    'Dia': ['Segunda', 'Terça', 'Quarta', 'Quinta', 'Sexta', 'Sábado', 'Domingo'],\n",
        "    'Tarefas Concluídas': [5, 4, 6, 4, 5, 3, 2]\n",
        "}\n",
        "\n",
        "# Calcular a média diária de tarefas concluídas\n",
        "media_diaria = sum(dados['Tarefas Concluídas']) / len(dados['Tarefas Concluídas'])\n",
        "\n",
        "# Criar um gráfico de barras com a média diária\n",
        "plt.figure(figsize=(7, 5))  # Definir o tamanho do gráfico\n",
        "ax = sns.barplot(x='Dia', y='Tarefas Concluídas', data=dados, color='salmon')  # Cor salmon\n",
        "\n",
        "plt.axhline(media_diaria, color='black', linestyle='--', label=f'Média Diária: {media_diaria:.2f}')  # Linha preta\n",
        "\n",
        "plt.title('Tarefas Concluídas por Dia da Semana')\n",
        "plt.xlabel('Dia da Semana')\n",
        "plt.ylabel('Tarefas Concluídas')\n",
        "\n",
        "plt.legend()  # Adicionar legenda\n",
        "\n",
        "plt.xticks(rotation=45)  # Rotacionar os rótulos do eixo x para melhor visualização\n",
        "\n",
        "plt.tight_layout()  # Ajustar layout\n",
        "plt.show()"
      ],
      "metadata": {
        "id": "xumK5mB7x6ON"
      },
      "execution_count": null,
      "outputs": []
    },
    {
      "cell_type": "markdown",
      "source": [
        "##<font color = \"blue\">GRÁFICO 7 produtividade diária (Tarefas Concluídas por Hora)"
      ],
      "metadata": {
        "id": "esxVwY5Zqt-T"
      }
    },
    {
      "cell_type": "code",
      "source": [
        "# Dados fornecidos\n",
        "dados = {\n",
        "    'Dia': ['Segunda', 'Terça', 'Quarta', 'Quinta', 'Sexta', 'Sábado', 'Domingo'],\n",
        "    'Horas Trabalhadas': [6, 7, 8, 6, 7, 5, 4],\n",
        "    'Tarefas Concluídas': [5, 4, 6, 4, 5, 3, 2]\n",
        "}\n",
        "\n",
        "plt.figure(figsize=(6, 4))  # Definir o tamanho do gráfico\n",
        "\n",
        "# Calcular a proporção de tarefas concluídas em relação às horas trabalhadas\n",
        "proporcao_tarefas_horas = [tarefas / horas for tarefas, horas in zip(dados['Tarefas Concluídas'], dados['Horas Trabalhadas'])]\n",
        "\n",
        "# Cores para destacar cada dia da semana no gráfico de pizza\n",
        "cores = ['gold', 'lightcoral', 'lightskyblue', 'lightgreen', 'orange', 'lightpink', 'lightslategrey']\n",
        "\n",
        "# Criar o gráfico de pizza\n",
        "plt.pie(proporcao_tarefas_horas, labels=dados['Dia'], colors=cores, autopct='%1.1f%%', startangle=140)\n",
        "\n",
        "plt.axis('equal')  # Garante que o gráfico de pizza é desenhado como um círculo\n",
        "plt.title('Proporção de Tarefas Concluídas por Hora Trabalhada por Dia')\n",
        "\n",
        "plt.show()"
      ],
      "metadata": {
        "colab": {
          "base_uri": "https://localhost:8080/",
          "height": 373
        },
        "id": "Q5HedBmBq9QL",
        "outputId": "d385f2b5-cfa5-4d1f-f72c-1592c3c89881"
      },
      "execution_count": 5,
      "outputs": [
        {
          "output_type": "display_data",
          "data": {
            "text/plain": [
              "<Figure size 600x400 with 1 Axes>"
            ],
            "image/png": "[encoded data removed]"
          },
          "metadata": {}
        }
      ]
    },
    {
      "cell_type": "markdown",
      "source": [
        "##<font color = \"blue\">"
      ],
      "metadata": {
        "id": "aN59wIbQ4bzk"
      }
    }
  ]
}