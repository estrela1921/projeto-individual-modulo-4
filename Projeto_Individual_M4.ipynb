{
  "nbformat": 4,
  "nbformat_minor": 0,
  "metadata": {
    "colab": {
      "provenance": [],
      "authorship_tag": "ABX9TyPdhMSFtPjYAiOcS+8l1uFn",
      "include_colab_link": true
    },
    "kernelspec": {
      "name": "python3",
      "display_name": "Python 3"
    },
    "language_info": {
      "name": "python"
    }
  },
  "cells": [
    {
      "cell_type": "markdown",
      "metadata": {
        "id": "view-in-github",
        "colab_type": "text"
      },
      "source": [
        "<a href=\"https://colab.research.google.com/github/estrela1921/projeto-individual-modulo-4/blob/main/Projeto_Individual_M4.ipynb\" target=\"_parent\"><img src=\"https://colab.research.google.com/assets/colab-badge.svg\" alt=\"Open In Colab\"/></a>"
      ]
    },
    {
      "cell_type": "code",
      "execution_count": 1,
      "metadata": {
        "id": "zdn3KJiP_41P"
      },
      "outputs": [],
      "source": [
        "import pandas as pd\n",
        "import matplotlib.pyplot as plt"
      ]
    },
    {
      "cell_type": "markdown",
      "source": [
        "##<font color = \"red\">Criando um DataFrame com os dados para a realização de relatórios"
      ],
      "metadata": {
        "id": "eNus9MInAOfe"
      }
    },
    {
      "cell_type": "code",
      "source": [
        "# Dados fornecidos\n",
        "dados = {\n",
        "    'Dia': ['Segunda', 'Terça', 'Quarta', 'Quinta', 'Sexta', 'Sábado', 'Domingo'],\n",
        "    'Horas Trabalhadas': [6, 7, 8, 6, 7, 5, 4],\n",
        "    'Bugs Corrigidos': [3, 2, 1, 4, 3, 2, 1],\n",
        "    'Tarefas Concluídas': [5, 4, 6, 4, 5, 3, 2]\n",
        "    }\n",
        "\n",
        "# Criar um DataFrame com os dados\n",
        "df = pd.DataFrame(dados)\n",
        "\n",
        "# Mostrar o DataFrame\n",
        "df"
      ],
      "metadata": {
        "id": "y-_50Bp8ArcZ"
      },
      "execution_count": null,
      "outputs": []
    },
    {
      "cell_type": "markdown",
      "source": [
        "##<font color = \"red\">Gerando relatório de progresso diário"
      ],
      "metadata": {
        "id": "5J6s-5cnm35M"
      }
    },
    {
      "cell_type": "code",
      "source": [
        "# Dados fornecidos\n",
        "dados = {\n",
        "    'Dia': ['Segunda', 'Terça', 'Quarta', 'Quinta', 'Sexta', 'Sábado', 'Domingo'],\n",
        "    'Horas Trabalhadas': [6, 7, 8, 6, 7, 5, 4],\n",
        "    'Bugs Corrigidos': [3, 2, 1, 4, 3, 2, 1],\n",
        "    'Tarefas Concluídas': [5, 4, 6, 4, 5, 3, 2]\n",
        "}\n",
        "\n",
        "# Calcular métricas de produtividade\n",
        "df['Média Horas Trabalhadas'] = df['Horas Trabalhadas'].mean()\n",
        "df['Média Bugs Corrigidos'] = df['Bugs Corrigidos'].mean()\n",
        "df['Média Tarefas Concluídas'] = df['Tarefas Concluídas'].mean()\n",
        "\n",
        "# Exibir o relatório de progresso diário\n",
        "relatorio = df[['Dia', 'Média Horas Trabalhadas', 'Média Bugs Corrigidos', 'Média Tarefas Concluídas']]\n",
        "print(relatorio)"
      ],
      "metadata": {
        "colab": {
          "base_uri": "https://localhost:8080/"
        },
        "id": "0IGVYXCOnFLB",
        "outputId": "a15f05c6-b79c-42cb-d0bf-c3f0c78d43ea"
      },
      "execution_count": 4,
      "outputs": [
        {
          "output_type": "stream",
          "name": "stdout",
          "text": [
            "       Dia  Média Horas Trabalhadas  Média Bugs Corrigidos  \\\n",
            "0  Segunda                 6.142857               2.285714   \n",
            "1    Terça                 6.142857               2.285714   \n",
            "2   Quarta                 6.142857               2.285714   \n",
            "3   Quinta                 6.142857               2.285714   \n",
            "4    Sexta                 6.142857               2.285714   \n",
            "5   Sábado                 6.142857               2.285714   \n",
            "6  Domingo                 6.142857               2.285714   \n",
            "\n",
            "   Média Tarefas Concluídas  \n",
            "0                  4.142857  \n",
            "1                  4.142857  \n",
            "2                  4.142857  \n",
            "3                  4.142857  \n",
            "4                  4.142857  \n",
            "5                  4.142857  \n",
            "6                  4.142857  \n"
          ]
        }
      ]
    },
    {
      "cell_type": "markdown",
      "source": [
        "##<font color = \"red\">Relatório gerado através da análise dos dados recebidos"
      ],
      "metadata": {
        "id": "EumW96FEn4pS"
      }
    },
    {
      "cell_type": "code",
      "source": [
        "# Total de Horas Trabalhadas\n",
        "total_horas_trabalhadas = df['Horas Trabalhadas'].sum()\n",
        "print(\"Total de Horas Trabalhadas na Semana:\", total_horas_trabalhadas)\n"
      ],
      "metadata": {
        "colab": {
          "base_uri": "https://localhost:8080/"
        },
        "id": "oTVxlUVKpE4v",
        "outputId": "4d9e4a4d-412d-44f3-be43-b4c03aa4d0af"
      },
      "execution_count": 11,
      "outputs": [
        {
          "output_type": "stream",
          "name": "stdout",
          "text": [
            "Total de Horas Trabalhadas na Semana: 43\n"
          ]
        }
      ]
    },
    {
      "cell_type": "code",
      "source": [
        "# Média Diária de Horas Trabalhadas\n",
        "media_horas_diaria = total_horas_trabalhadas / len(df)\n",
        "print(\"Média Diária de Horas Trabalhadas:\", media_horas_diaria)"
      ],
      "metadata": {
        "colab": {
          "base_uri": "https://localhost:8080/"
        },
        "id": "yLZ4J-u3qtg1",
        "outputId": "01b9f018-b203-4c7a-e340-0fa75e0d079c"
      },
      "execution_count": 5,
      "outputs": [
        {
          "output_type": "stream",
          "name": "stdout",
          "text": [
            "Média Diária de Horas Trabalhadas: 6.142857142857143\n"
          ]
        }
      ]
    },
    {
      "cell_type": "code",
      "source": [
        "# Total de Bugs Corrigidos\n",
        "total_bugs_corrigidos = df['Bugs Corrigidos'].sum()\n",
        "print(\"Total de Bugs Corrigidos na Semana:\", total_bugs_corrigidos)"
      ],
      "metadata": {
        "colab": {
          "base_uri": "https://localhost:8080/"
        },
        "id": "Iq4kj4FQq5DI",
        "outputId": "85671863-3991-4161-ae8a-9b611a00590a"
      },
      "execution_count": 6,
      "outputs": [
        {
          "output_type": "stream",
          "name": "stdout",
          "text": [
            "Total de Bugs Corrigidos na Semana: 16\n"
          ]
        }
      ]
    },
    {
      "cell_type": "code",
      "source": [
        "# Média Diária de Bugs Corrigidos\n",
        "media_bugs_diaria = total_bugs_corrigidos / len(df)\n",
        "print(\"Média Diária de Bugs Corrigidos:\", media_bugs_diaria)"
      ],
      "metadata": {
        "colab": {
          "base_uri": "https://localhost:8080/"
        },
        "id": "QVdWs-tqrAeO",
        "outputId": "d298d97b-0d93-4e6a-dc86-7796585ae8eb"
      },
      "execution_count": 7,
      "outputs": [
        {
          "output_type": "stream",
          "name": "stdout",
          "text": [
            "Média Diária de Bugs Corrigidos: 2.2857142857142856\n"
          ]
        }
      ]
    },
    {
      "cell_type": "code",
      "source": [
        "# Total de Tarefas Concluídas\n",
        "total_tarefas_concluidas = df['Tarefas Concluídas'].sum()\n",
        "print(\"Total de Tarefas Concluídas na Semana:\", total_tarefas_concluidas)"
      ],
      "metadata": {
        "colab": {
          "base_uri": "https://localhost:8080/"
        },
        "id": "scV7kEcBrIVk",
        "outputId": "4bbc4996-f111-4f4f-bfbf-fbda6a01c650"
      },
      "execution_count": 8,
      "outputs": [
        {
          "output_type": "stream",
          "name": "stdout",
          "text": [
            "Total de Tarefas Concluídas na Semana: 29\n"
          ]
        }
      ]
    },
    {
      "cell_type": "code",
      "source": [
        "# Média Diária de Tarefas Concluídas\n",
        "media_tarefas_diaria = total_tarefas_concluidas / len(df)\n",
        "print(\"Média Diária de Tarefas Concluídas:\", media_tarefas_diaria)"
      ],
      "metadata": {
        "colab": {
          "base_uri": "https://localhost:8080/"
        },
        "id": "4YCcTzwfrOuM",
        "outputId": "0cc62562-65a6-4cec-aece-347dce7009a5"
      },
      "execution_count": 9,
      "outputs": [
        {
          "output_type": "stream",
          "name": "stdout",
          "text": [
            "Média Diária de Tarefas Concluídas: 4.142857142857143\n"
          ]
        }
      ]
    },
    {
      "cell_type": "code",
      "source": [
        "# Calculando a produtividade diária (Tarefas Concluídas por Hora)\n",
        "df['Produtividade Diária'] = df['Tarefas Concluídas'] / df['Horas Trabalhadas']\n",
        "print(\"Produtividade Diária:\")\n",
        "print(df['Produtividade Diária'])"
      ],
      "metadata": {
        "colab": {
          "base_uri": "https://localhost:8080/"
        },
        "id": "w-PK0o7DrVxu",
        "outputId": "5a051221-cf13-4efc-bdb4-0325bcb1e806"
      },
      "execution_count": 10,
      "outputs": [
        {
          "output_type": "stream",
          "name": "stdout",
          "text": [
            "Produtividade Diária:\n",
            "0    0.833333\n",
            "1    0.571429\n",
            "2    0.750000\n",
            "3    0.666667\n",
            "4    0.714286\n",
            "5    0.600000\n",
            "6    0.500000\n",
            "Name: Produtividade Diária, dtype: float64\n"
          ]
        }
      ]
    }
  ]
}