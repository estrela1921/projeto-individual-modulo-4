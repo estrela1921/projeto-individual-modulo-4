{
  "nbformat": 4,
  "nbformat_minor": 0,
  "metadata": {
    "colab": {
      "provenance": [],
      "authorship_tag": "ABX9TyMgdYuV6VbSnEVLid1nTKH0",
      "include_colab_link": true
    },
    "kernelspec": {
      "name": "python3",
      "display_name": "Python 3"
    },
    "language_info": {
      "name": "python"
    }
  },
  "cells": [
    {
      "cell_type": "markdown",
      "metadata": {
        "id": "view-in-github",
        "colab_type": "text"
      },
      "source": [
        "<a href=\"https://colab.research.google.com/github/estrela1921/projeto-individual-modulo-4/blob/main/Projeto_Individual_M4.ipynb\" target=\"_parent\"><img src=\"https://colab.research.google.com/assets/colab-badge.svg\" alt=\"Open In Colab\"/></a>"
      ]
    },
    {
      "cell_type": "code",
      "execution_count": 1,
      "metadata": {
        "id": "zdn3KJiP_41P"
      },
      "outputs": [],
      "source": [
        "import pandas as pd\n",
        "import matplotlib.pyplot as plt"
      ]
    },
    {
      "cell_type": "markdown",
      "source": [
        "##<font color = \"red\">Criando um DataFrame com os dados para a realização de relatórios"
      ],
      "metadata": {
        "id": "eNus9MInAOfe"
      }
    },
    {
      "cell_type": "code",
      "source": [
        "# Dados fornecidos\n",
        "dados = {\n",
        "    'Dia': ['Segunda', 'Terça', 'Quarta', 'Quinta', 'Sexta', 'Sábado', 'Domingo'],\n",
        "    'Horas Trabalhadas': [6, 7, 8, 6, 7, 5, 4],\n",
        "    'Bugs Corrigidos': [3, 2, 1, 4, 3, 2, 1],\n",
        "    'Tarefas Concluídas': [5, 4, 6, 4, 5, 3, 2]\n",
        "    }\n",
        "\n",
        "# Criar um DataFrame com os dados\n",
        "df = pd.DataFrame(dados)\n",
        "\n",
        "# Mostrar o DataFrame\n",
        "df"
      ],
      "metadata": {
        "id": "y-_50Bp8ArcZ"
      },
      "execution_count": null,
      "outputs": []
    },
    {
      "cell_type": "markdown",
      "source": [
        "##<font color = \"red\">Gerando relatório de progresso diário"
      ],
      "metadata": {
        "id": "5J6s-5cnm35M"
      }
    },
    {
      "cell_type": "code",
      "source": [
        "# Dados fornecidos\n",
        "dados = {\n",
        "    'Dia': ['Segunda', 'Terça', 'Quarta', 'Quinta', 'Sexta', 'Sábado', 'Domingo'],\n",
        "    'Horas Trabalhadas': [6, 7, 8, 6, 7, 5, 4],\n",
        "    'Bugs Corrigidos': [3, 2, 1, 4, 3, 2, 1],\n",
        "    'Tarefas Concluídas': [5, 4, 6, 4, 5, 3, 2]\n",
        "}\n",
        "\n",
        "# Criar um DataFrame a partir dos dados\n",
        "df = pd.DataFrame(dados)\n",
        "\n",
        "# Calcular métricas de produtividade\n",
        "df['Média Horas Trabalhadas'] = df['Horas Trabalhadas'].mean()\n",
        "df['Média Bugs Corrigidos'] = df['Bugs Corrigidos'].mean()\n",
        "df['Média Tarefas Concluídas'] = df['Tarefas Concluídas'].mean()\n",
        "\n",
        "# Exibir o relatório de progresso diário\n",
        "relatorio = df[['Dia', 'Média Horas Trabalhadas', 'Média Bugs Corrigidos', 'Média Tarefas Concluídas']]\n",
        "print(relatorio)"
      ],
      "metadata": {
        "id": "0IGVYXCOnFLB"
      },
      "execution_count": null,
      "outputs": []
    }
  ]
}